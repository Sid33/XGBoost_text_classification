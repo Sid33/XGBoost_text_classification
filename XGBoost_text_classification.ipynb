{
 "cells": [
  {
   "cell_type": "code",
   "execution_count": null,
   "id": "a3b1b23e",
   "metadata": {},
   "outputs": [],
   "source": []
  },
  {
   "cell_type": "code",
   "execution_count": 1,
   "id": "fd981518",
   "metadata": {},
   "outputs": [],
   "source": [
    "import pandas as pd \n",
    "import numpy as np \n",
    "import matplotlib.pyplot as plt\n",
    "import seaborn as sns"
   ]
  },
  {
   "cell_type": "code",
   "execution_count": 2,
   "id": "16643653",
   "metadata": {},
   "outputs": [],
   "source": [
    "df = pd.read_csv(r\"C:\\Users\\sbali\\Downloads\\train_set.csv\")"
   ]
  },
  {
   "cell_type": "code",
   "execution_count": 3,
   "id": "884a7f00",
   "metadata": {},
   "outputs": [
    {
     "data": {
      "text/html": [
       "<div>\n",
       "<style scoped>\n",
       "    .dataframe tbody tr th:only-of-type {\n",
       "        vertical-align: middle;\n",
       "    }\n",
       "\n",
       "    .dataframe tbody tr th {\n",
       "        vertical-align: top;\n",
       "    }\n",
       "\n",
       "    .dataframe thead th {\n",
       "        text-align: right;\n",
       "    }\n",
       "</style>\n",
       "<table border=\"1\" class=\"dataframe\">\n",
       "  <thead>\n",
       "    <tr style=\"text-align: right;\">\n",
       "      <th></th>\n",
       "      <th>label</th>\n",
       "      <th>text</th>\n",
       "    </tr>\n",
       "  </thead>\n",
       "  <tbody>\n",
       "    <tr>\n",
       "      <th>0</th>\n",
       "      <td>85389000</td>\n",
       "      <td>pdscpm gb part of panel of chiller</td>\n",
       "    </tr>\n",
       "    <tr>\n",
       "      <th>1</th>\n",
       "      <td>85389000</td>\n",
       "      <td>nm  p economical extended rot hand parts for c...</td>\n",
       "    </tr>\n",
       "    <tr>\n",
       "      <th>2</th>\n",
       "      <td>85389000</td>\n",
       "      <td>lv ma pd trip unit for cvs parts of circuit br...</td>\n",
       "    </tr>\n",
       "    <tr>\n",
       "      <th>3</th>\n",
       "      <td>85389000</td>\n",
       "      <td>lv na p trip unit for cvs switch parts of circ...</td>\n",
       "    </tr>\n",
       "    <tr>\n",
       "      <th>4</th>\n",
       "      <td>85389000</td>\n",
       "      <td>lv tmd pd trip unit for cvs parts of circuitbr...</td>\n",
       "    </tr>\n",
       "  </tbody>\n",
       "</table>\n",
       "</div>"
      ],
      "text/plain": [
       "      label                                               text\n",
       "0  85389000                 pdscpm gb part of panel of chiller\n",
       "1  85389000  nm  p economical extended rot hand parts for c...\n",
       "2  85389000  lv ma pd trip unit for cvs parts of circuit br...\n",
       "3  85389000  lv na p trip unit for cvs switch parts of circ...\n",
       "4  85389000  lv tmd pd trip unit for cvs parts of circuitbr..."
      ]
     },
     "execution_count": 3,
     "metadata": {},
     "output_type": "execute_result"
    }
   ],
   "source": [
    "df.head()"
   ]
  },
  {
   "cell_type": "code",
   "execution_count": 4,
   "id": "539b6d0d",
   "metadata": {},
   "outputs": [
    {
     "data": {
      "text/plain": [
       "(23615, 2)"
      ]
     },
     "execution_count": 4,
     "metadata": {},
     "output_type": "execute_result"
    }
   ],
   "source": [
    "df.shape"
   ]
  },
  {
   "cell_type": "code",
   "execution_count": 5,
   "id": "9bf12eca",
   "metadata": {},
   "outputs": [
    {
     "data": {
      "text/plain": [
       "85389000    2936\n",
       "85177090    2581\n",
       "85369090    2438\n",
       "39269099    2189\n",
       "73181500    2033\n",
       "85366990    1944\n",
       "85238090    1720\n",
       "85364900    1714\n",
       "87089900    1673\n",
       "33041000    1605\n",
       "87082900    1451\n",
       "84713010    1331\n",
       "Name: label, dtype: int64"
      ]
     },
     "execution_count": 5,
     "metadata": {},
     "output_type": "execute_result"
    }
   ],
   "source": [
    "df['label'].value_counts()"
   ]
  },
  {
   "cell_type": "code",
   "execution_count": 7,
   "id": "2df58f78",
   "metadata": {},
   "outputs": [
    {
     "data": {
      "text/html": [
       "<div>\n",
       "<style scoped>\n",
       "    .dataframe tbody tr th:only-of-type {\n",
       "        vertical-align: middle;\n",
       "    }\n",
       "\n",
       "    .dataframe tbody tr th {\n",
       "        vertical-align: top;\n",
       "    }\n",
       "\n",
       "    .dataframe thead th {\n",
       "        text-align: right;\n",
       "    }\n",
       "</style>\n",
       "<table border=\"1\" class=\"dataframe\">\n",
       "  <thead>\n",
       "    <tr style=\"text-align: right;\">\n",
       "      <th></th>\n",
       "      <th>label</th>\n",
       "      <th>text</th>\n",
       "      <th>text_length</th>\n",
       "    </tr>\n",
       "  </thead>\n",
       "  <tbody>\n",
       "    <tr>\n",
       "      <th>0</th>\n",
       "      <td>85389000</td>\n",
       "      <td>pdscpm gb part of panel of chiller</td>\n",
       "      <td>35</td>\n",
       "    </tr>\n",
       "    <tr>\n",
       "      <th>1</th>\n",
       "      <td>85389000</td>\n",
       "      <td>nm  p economical extended rot hand parts for c...</td>\n",
       "      <td>80</td>\n",
       "    </tr>\n",
       "    <tr>\n",
       "      <th>2</th>\n",
       "      <td>85389000</td>\n",
       "      <td>lv ma pd trip unit for cvs parts of circuit br...</td>\n",
       "      <td>52</td>\n",
       "    </tr>\n",
       "    <tr>\n",
       "      <th>3</th>\n",
       "      <td>85389000</td>\n",
       "      <td>lv na p trip unit for cvs switch parts of circ...</td>\n",
       "      <td>57</td>\n",
       "    </tr>\n",
       "    <tr>\n",
       "      <th>4</th>\n",
       "      <td>85389000</td>\n",
       "      <td>lv tmd pd trip unit for cvs parts of circuitbr...</td>\n",
       "      <td>52</td>\n",
       "    </tr>\n",
       "  </tbody>\n",
       "</table>\n",
       "</div>"
      ],
      "text/plain": [
       "      label                                               text  text_length\n",
       "0  85389000                 pdscpm gb part of panel of chiller           35\n",
       "1  85389000  nm  p economical extended rot hand parts for c...           80\n",
       "2  85389000  lv ma pd trip unit for cvs parts of circuit br...           52\n",
       "3  85389000  lv na p trip unit for cvs switch parts of circ...           57\n",
       "4  85389000  lv tmd pd trip unit for cvs parts of circuitbr...           52"
      ]
     },
     "execution_count": 7,
     "metadata": {},
     "output_type": "execute_result"
    }
   ],
   "source": [
    "df['text_length'] = df['text'].str.len()\n",
    "df.head()"
   ]
  },
  {
   "cell_type": "code",
   "execution_count": 6,
   "id": "00e6706b",
   "metadata": {},
   "outputs": [
    {
     "data": {
      "text/html": [
       "<div>\n",
       "<style scoped>\n",
       "    .dataframe tbody tr th:only-of-type {\n",
       "        vertical-align: middle;\n",
       "    }\n",
       "\n",
       "    .dataframe tbody tr th {\n",
       "        vertical-align: top;\n",
       "    }\n",
       "\n",
       "    .dataframe thead th {\n",
       "        text-align: right;\n",
       "    }\n",
       "</style>\n",
       "<table border=\"1\" class=\"dataframe\">\n",
       "  <thead>\n",
       "    <tr style=\"text-align: right;\">\n",
       "      <th></th>\n",
       "      <th>text</th>\n",
       "    </tr>\n",
       "    <tr>\n",
       "      <th>label</th>\n",
       "      <th></th>\n",
       "    </tr>\n",
       "  </thead>\n",
       "  <tbody>\n",
       "    <tr>\n",
       "      <th>33041000</th>\n",
       "      <td>1058</td>\n",
       "    </tr>\n",
       "    <tr>\n",
       "      <th>39269099</th>\n",
       "      <td>564</td>\n",
       "    </tr>\n",
       "    <tr>\n",
       "      <th>73181500</th>\n",
       "      <td>759</td>\n",
       "    </tr>\n",
       "    <tr>\n",
       "      <th>84713010</th>\n",
       "      <td>767</td>\n",
       "    </tr>\n",
       "    <tr>\n",
       "      <th>85177090</th>\n",
       "      <td>971</td>\n",
       "    </tr>\n",
       "    <tr>\n",
       "      <th>85238090</th>\n",
       "      <td>1627</td>\n",
       "    </tr>\n",
       "    <tr>\n",
       "      <th>85364900</th>\n",
       "      <td>1262</td>\n",
       "    </tr>\n",
       "    <tr>\n",
       "      <th>85366990</th>\n",
       "      <td>914</td>\n",
       "    </tr>\n",
       "    <tr>\n",
       "      <th>85369090</th>\n",
       "      <td>1173</td>\n",
       "    </tr>\n",
       "    <tr>\n",
       "      <th>85389000</th>\n",
       "      <td>1379</td>\n",
       "    </tr>\n",
       "    <tr>\n",
       "      <th>87082900</th>\n",
       "      <td>911</td>\n",
       "    </tr>\n",
       "    <tr>\n",
       "      <th>87089900</th>\n",
       "      <td>882</td>\n",
       "    </tr>\n",
       "  </tbody>\n",
       "</table>\n",
       "</div>"
      ],
      "text/plain": [
       "          text\n",
       "label         \n",
       "33041000  1058\n",
       "39269099   564\n",
       "73181500   759\n",
       "84713010   767\n",
       "85177090   971\n",
       "85238090  1627\n",
       "85364900  1262\n",
       "85366990   914\n",
       "85369090  1173\n",
       "85389000  1379\n",
       "87082900   911\n",
       "87089900   882"
      ]
     },
     "execution_count": 6,
     "metadata": {},
     "output_type": "execute_result"
    }
   ],
   "source": [
    "duplicate = df[df.duplicated('text')]\n",
    "duplicate.groupby('label').count()"
   ]
  },
  {
   "cell_type": "code",
   "execution_count": 8,
   "id": "ddb4d6f3",
   "metadata": {},
   "outputs": [
    {
     "data": {
      "text/plain": [
       "Text(0, 0.5, 'No. of text')"
      ]
     },
     "execution_count": 8,
     "metadata": {},
     "output_type": "execute_result"
    },
    {
     "data": {
      "image/png": "[encoded data removed]",
      "text/plain": [
       "<Figure size 1080x360 with 1 Axes>"
      ]
     },
     "metadata": {
      "needs_background": "light"
     },
     "output_type": "display_data"
    }
   ],
   "source": [
    "# no. text in each class\n",
    "\n",
    "plt.figure(figsize=(15, 5))\n",
    "highest_label = df['label'].value_counts().index\n",
    "sns.countplot(data=df, x='label', order=highest_label)\n",
    "plt.xticks(rotation=75)\n",
    "plt.title('number of text in each label')\n",
    "plt.xlabel('Label')\n",
    "plt.ylabel('No. of text')\n"
   ]
  },
  {
   "cell_type": "code",
   "execution_count": 9,
   "id": "043d3a3e",
   "metadata": {},
   "outputs": [
    {
     "data": {
      "image/png": "[encoded data removed]",
      "text/plain": [
       "<Figure size 921.6x432 with 1 Axes>"
      ]
     },
     "metadata": {
      "needs_background": "light"
     },
     "output_type": "display_data"
    }
   ],
   "source": [
    "# text length distribution category wise   \n",
    "\n",
    "plt.figure(figsize=(12.8,6))\n",
    "plt.title('text length distribution category wise')\n",
    "sns.boxplot(data=df, x='label', y='text_length');"
   ]
  },
  {
   "cell_type": "code",
   "execution_count": null,
   "id": "ab1fa3a1",
   "metadata": {},
   "outputs": [],
   "source": []
  },
  {
   "cell_type": "code",
   "execution_count": 11,
   "id": "7315f429",
   "metadata": {},
   "outputs": [
    {
     "data": {
      "text/plain": [
       "'nm  p economical extended rot hand parts for circuit breaker captive consumption'"
      ]
     },
     "execution_count": 11,
     "metadata": {},
     "output_type": "execute_result"
    }
   ],
   "source": [
    "df.loc[1]['text']"
   ]
  },
  {
   "cell_type": "code",
   "execution_count": 12,
   "id": "aa107ca4",
   "metadata": {},
   "outputs": [],
   "source": [
    "import re\n",
    "import nltk\n",
    "from nltk.corpus import stopwords\n",
    "from nltk.stem import WordNetLemmatizer\n",
    "from sklearn.feature_extraction.text import TfidfVectorizer\n",
    "from sklearn.model_selection import train_test_split\n",
    "from sklearn.feature_selection import chi2"
   ]
  },
  {
   "cell_type": "markdown",
   "id": "e4b9f936",
   "metadata": {},
   "source": [
    "### 1. Text cleaning "
   ]
  },
  {
   "cell_type": "code",
   "execution_count": null,
   "id": "be0c63e2",
   "metadata": {},
   "outputs": [],
   "source": []
  },
  {
   "cell_type": "code",
   "execution_count": 35,
   "id": "7625caff",
   "metadata": {},
   "outputs": [
    {
     "name": "stderr",
     "output_type": "stream",
     "text": [
      "C:\\Users\\sbali\\AppData\\Local\\Temp/ipykernel_6816/2274859908.py:12: FutureWarning: The default value of regex will change from True to False in a future version. In addition, single character regular expressions will*not* be treated as literal strings when regex=True.\n",
      "  df['text_clean'] = df['text'].str.replace(punct_sign, '')\n"
     ]
    }
   ],
   "source": [
    "## converting all text to lower case\n",
    "\n",
    "df['text_clean'] = df['text'].str.lower()\n",
    "\n",
    "\n",
    "#### 1.1 Punctuation signs\n",
    "\n",
    "punct_signs = list(\"?:!.,;\")\n",
    "\n",
    "\n",
    "for punct_sign in punct_signs:\n",
    "    df['text_clean'] = df['text'].str.replace(punct_sign, '')"
   ]
  },
  {
   "cell_type": "code",
   "execution_count": 36,
   "id": "b2c35bef",
   "metadata": {},
   "outputs": [],
   "source": [
    "### Lemmatization\n",
    "\n",
    "wordnet_lemmatizer = WordNetLemmatizer()"
   ]
  },
  {
   "cell_type": "code",
   "execution_count": 37,
   "id": "f0b61aa5",
   "metadata": {},
   "outputs": [],
   "source": [
    "nrows = len(df)\n",
    "lemmatized_text_list = []\n",
    "\n",
    "for row in range(0, nrows):\n",
    "    \n",
    "    # Create an empty list containing lemmatized words\n",
    "    lemmatized_list = []\n",
    "    \n",
    "    # Save the text and its words into an object\n",
    "    text = df.loc[row]['text_clean']\n",
    "    text_words = text.split(\" \")\n",
    "\n",
    "    # Iterate through every word to lemmatize\n",
    "    for word in text_words:\n",
    "        lemmatized_list.append(wordnet_lemmatizer.lemmatize(word, pos=\"v\"))\n",
    "        \n",
    "    # Join the list\n",
    "    lemmatized_text = \" \".join(lemmatized_list)\n",
    "    \n",
    "    # Append to the list containing the texts\n",
    "    lemmatized_text_list.append(lemmatized_text)"
   ]
  },
  {
   "cell_type": "code",
   "execution_count": 38,
   "id": "9dc6b184",
   "metadata": {},
   "outputs": [],
   "source": [
    "df['lemmatized_text'] = lemmatized_text_list"
   ]
  },
  {
   "cell_type": "code",
   "execution_count": 39,
   "id": "02a544cc",
   "metadata": {},
   "outputs": [],
   "source": [
    "#  stop words \n",
    "stop_words = list(stopwords.words('english'))"
   ]
  },
  {
   "cell_type": "code",
   "execution_count": 40,
   "id": "5ce67aee",
   "metadata": {},
   "outputs": [],
   "source": [
    "for stop_word in stop_words:\n",
    "\n",
    "    df['cleaned_text'] = df['lemmatized_text'].str.replace(stop_word, '')"
   ]
  },
  {
   "cell_type": "code",
   "execution_count": 41,
   "id": "b4879cd0",
   "metadata": {},
   "outputs": [],
   "source": [
    "list_columns = [\"label\", \"text\", \"cleaned_text\"]\n",
    "df = df[list_columns]"
   ]
  },
  {
   "cell_type": "code",
   "execution_count": 42,
   "id": "3ca2a949",
   "metadata": {},
   "outputs": [
    {
     "data": {
      "text/html": [
       "<div>\n",
       "<style scoped>\n",
       "    .dataframe tbody tr th:only-of-type {\n",
       "        vertical-align: middle;\n",
       "    }\n",
       "\n",
       "    .dataframe tbody tr th {\n",
       "        vertical-align: top;\n",
       "    }\n",
       "\n",
       "    .dataframe thead th {\n",
       "        text-align: right;\n",
       "    }\n",
       "</style>\n",
       "<table border=\"1\" class=\"dataframe\">\n",
       "  <thead>\n",
       "    <tr style=\"text-align: right;\">\n",
       "      <th></th>\n",
       "      <th>label</th>\n",
       "      <th>text</th>\n",
       "      <th>cleaned_text</th>\n",
       "    </tr>\n",
       "  </thead>\n",
       "  <tbody>\n",
       "    <tr>\n",
       "      <th>0</th>\n",
       "      <td>85389000</td>\n",
       "      <td>pdscpm gb part of panel of chiller</td>\n",
       "      <td>pdscpm gb part of panel of chiller</td>\n",
       "    </tr>\n",
       "    <tr>\n",
       "      <th>1</th>\n",
       "      <td>85389000</td>\n",
       "      <td>nm  p economical extended rot hand parts for c...</td>\n",
       "      <td>nm  p economical extend rot hand part for circ...</td>\n",
       "    </tr>\n",
       "    <tr>\n",
       "      <th>2</th>\n",
       "      <td>85389000</td>\n",
       "      <td>lv ma pd trip unit for cvs parts of circuit br...</td>\n",
       "      <td>lv ma pd trip unit for cvs part of circuit bre...</td>\n",
       "    </tr>\n",
       "    <tr>\n",
       "      <th>3</th>\n",
       "      <td>85389000</td>\n",
       "      <td>lv na p trip unit for cvs switch parts of circ...</td>\n",
       "      <td>lv na p trip unit for cvs switch part of circu...</td>\n",
       "    </tr>\n",
       "    <tr>\n",
       "      <th>4</th>\n",
       "      <td>85389000</td>\n",
       "      <td>lv tmd pd trip unit for cvs parts of circuitbr...</td>\n",
       "      <td>lv tmd pd trip unit for cvs part of circuitbre...</td>\n",
       "    </tr>\n",
       "  </tbody>\n",
       "</table>\n",
       "</div>"
      ],
      "text/plain": [
       "      label                                               text  \\\n",
       "0  85389000                 pdscpm gb part of panel of chiller   \n",
       "1  85389000  nm  p economical extended rot hand parts for c...   \n",
       "2  85389000  lv ma pd trip unit for cvs parts of circuit br...   \n",
       "3  85389000  lv na p trip unit for cvs switch parts of circ...   \n",
       "4  85389000  lv tmd pd trip unit for cvs parts of circuitbr...   \n",
       "\n",
       "                                        cleaned_text  \n",
       "0                 pdscpm gb part of panel of chiller  \n",
       "1  nm  p economical extend rot hand part for circ...  \n",
       "2  lv ma pd trip unit for cvs part of circuit bre...  \n",
       "3  lv na p trip unit for cvs switch part of circu...  \n",
       "4  lv tmd pd trip unit for cvs part of circuitbre...  "
      ]
     },
     "execution_count": 42,
     "metadata": {},
     "output_type": "execute_result"
    }
   ],
   "source": [
    "df.head()"
   ]
  },
  {
   "cell_type": "code",
   "execution_count": null,
   "id": "deac657c",
   "metadata": {},
   "outputs": [],
   "source": [
    "############## splitting data into train and test set "
   ]
  },
  {
   "cell_type": "code",
   "execution_count": 43,
   "id": "1248e1d3",
   "metadata": {},
   "outputs": [],
   "source": [
    "x_train, x_test, y_train, y_test = train_test_split(df['cleaned_text'], \n",
    "                                                    df['label'], \n",
    "                                                    test_size=0.10, \n",
    "                                                    random_state= 10)"
   ]
  },
  {
   "cell_type": "code",
   "execution_count": 46,
   "id": "07219ca0",
   "metadata": {},
   "outputs": [
    {
     "data": {
      "text/plain": [
       "(21253, 2362)"
      ]
     },
     "execution_count": 46,
     "metadata": {},
     "output_type": "execute_result"
    }
   ],
   "source": [
    "len(x_train) , len(x_test)"
   ]
  },
  {
   "cell_type": "code",
   "execution_count": null,
   "id": "2c36a39a",
   "metadata": {},
   "outputs": [],
   "source": [
    "########## Transforming the text into tf-idf feature vectors"
   ]
  },
  {
   "cell_type": "code",
   "execution_count": 45,
   "id": "613b0972",
   "metadata": {},
   "outputs": [
    {
     "name": "stdout",
     "output_type": "stream",
     "text": [
      "(21253, 12834)\n",
      "(2362, 12834)\n"
     ]
    }
   ],
   "source": [
    "tfidf = TfidfVectorizer()\n",
    "                        \n",
    "features_train = tfidf.fit_transform(x_train).toarray()\n",
    "labels_train = y_train\n",
    "print(features_train.shape)\n",
    "\n",
    "features_test = tfidf.transform(x_test).toarray()\n",
    "labels_test = y_test\n",
    "print(features_test.shape)"
   ]
  },
  {
   "cell_type": "code",
   "execution_count": null,
   "id": "e20c38d6",
   "metadata": {},
   "outputs": [],
   "source": [
    "########### Training xgboost Model "
   ]
  },
  {
   "cell_type": "code",
   "execution_count": 49,
   "id": "94409c14",
   "metadata": {},
   "outputs": [],
   "source": [
    "from xgboost import XGBClassifier"
   ]
  },
  {
   "cell_type": "code",
   "execution_count": 53,
   "id": "d8262beb",
   "metadata": {},
   "outputs": [
    {
     "name": "stdout",
     "output_type": "stream",
     "text": [
      "[23:57:35] WARNING: C:/Users/Administrator/workspace/xgboost-win64_release_1.4.0/src/learner.cc:1095: Starting in XGBoost 1.3.0, the default evaluation metric used with the objective 'multi:softprob' was changed from 'merror' to 'mlogloss'. Explicitly set eval_metric if you'd like to restore the old behavior.\n"
     ]
    },
    {
     "data": {
      "text/plain": [
       "XGBClassifier(base_score=0.5, booster='gbtree', colsample_bylevel=1,\n",
       "              colsample_bynode=1, colsample_bytree=1, gamma=0, gpu_id=-1,\n",
       "              importance_type='gain', interaction_constraints='',\n",
       "              learning_rate=0.300000012, max_delta_step=0, max_depth=6,\n",
       "              min_child_weight=1, missing=nan, monotone_constraints='()',\n",
       "              n_estimators=100, n_jobs=6, num_parallel_tree=1,\n",
       "              objective='multi:softprob', random_state=0, reg_alpha=0,\n",
       "              reg_lambda=1, scale_pos_weight=None, subsample=1,\n",
       "              tree_method='exact', validate_parameters=1, verbosity=None)"
      ]
     },
     "execution_count": 53,
     "metadata": {},
     "output_type": "execute_result"
    }
   ],
   "source": [
    "model = XGBClassifier()\n",
    "model.fit(features_train, labels_train)"
   ]
  },
  {
   "cell_type": "code",
   "execution_count": 56,
   "id": "2a5cffa5",
   "metadata": {},
   "outputs": [
    {
     "data": {
      "text/plain": [
       "array([85177090, 85364900, 85389000, ..., 85389000, 85366990, 73181500],\n",
       "      dtype=int64)"
      ]
     },
     "execution_count": 56,
     "metadata": {},
     "output_type": "execute_result"
    }
   ],
   "source": [
    "y_pred = model.predict(features_test)\n",
    "y_pred"
   ]
  },
  {
   "cell_type": "code",
   "execution_count": 58,
   "id": "db402e94",
   "metadata": {},
   "outputs": [
    {
     "data": {
      "text/plain": [
       "0.9106689246401355"
      ]
     },
     "execution_count": 58,
     "metadata": {},
     "output_type": "execute_result"
    }
   ],
   "source": [
    "from sklearn.metrics import accuracy_score\n",
    "accuracy = accuracy_score(y_test, y_pred)\n",
    "accuracy"
   ]
  },
  {
   "cell_type": "code",
   "execution_count": 64,
   "id": "8f062e22",
   "metadata": {},
   "outputs": [],
   "source": [
    "from sklearn.metrics import confusion_matrix,classification_report"
   ]
  },
  {
   "cell_type": "code",
   "execution_count": 80,
   "id": "0208d36d",
   "metadata": {},
   "outputs": [
    {
     "data": {
      "text/plain": [
       "['85389000',\n",
       " '85177090',\n",
       " '85369090',\n",
       " '39269099',\n",
       " '73181500',\n",
       " '85366990',\n",
       " '85364900',\n",
       " '85238090',\n",
       " '87089900',\n",
       " '33041000',\n",
       " '87082900',\n",
       " '84713010']"
      ]
     },
     "execution_count": 80,
     "metadata": {},
     "output_type": "execute_result"
    }
   ],
   "source": [
    "b = list(df['label'].unique())\n",
    "b = [str(i) for i in b]\n",
    "b"
   ]
  },
  {
   "cell_type": "code",
   "execution_count": 82,
   "id": "43ab2d29",
   "metadata": {},
   "outputs": [
    {
     "name": "stdout",
     "output_type": "stream",
     "text": [
      "              precision    recall  f1-score   support\n",
      "\n",
      "    85389000       0.99      1.00      0.99       170\n",
      "    85177090       0.80      0.80      0.80       230\n",
      "    85369090       0.93      0.89      0.91       195\n",
      "    39269099       0.98      1.00      0.99       142\n",
      "    73181500       0.97      0.96      0.97       244\n",
      "    85366990       1.00      0.99      0.99       172\n",
      "    85364900       0.97      0.97      0.97       182\n",
      "    85238090       0.92      0.87      0.89       208\n",
      "    87089900       0.90      0.88      0.89       236\n",
      "    33041000       0.80      0.90      0.85       289\n",
      "    87082900       0.90      0.87      0.89       148\n",
      "    84713010       0.88      0.84      0.86       146\n",
      "\n",
      "    accuracy                           0.91      2362\n",
      "   macro avg       0.92      0.91      0.92      2362\n",
      "weighted avg       0.91      0.91      0.91      2362\n",
      "\n"
     ]
    }
   ],
   "source": [
    "print(classification_report(y_test, y_pred, target_names=b))"
   ]
  },
  {
   "cell_type": "code",
   "execution_count": 85,
   "id": "953f7f99",
   "metadata": {},
   "outputs": [
    {
     "data": {
      "text/plain": [
       "array([[170,   0,   0,   0,   0,   0,   0,   0,   0,   0,   0,   0],\n",
       "       [  1, 184,   7,   2,   3,   0,   0,   3,   1,  19,   5,   5],\n",
       "       [  0,   4, 174,   0,   2,   0,   0,   0,   0,  13,   1,   1],\n",
       "       [  0,   0,   0, 142,   0,   0,   0,   0,   0,   0,   0,   0],\n",
       "       [  0,   9,   0,   0, 235,   0,   0,   0,   0,   0,   0,   0],\n",
       "       [  0,   0,   0,   0,   0, 170,   0,   0,   0,   2,   0,   0],\n",
       "       [  0,   0,   0,   0,   0,   0, 177,   0,   2,   3,   0,   0],\n",
       "       [  0,   5,   0,   1,   1,   0,   0, 180,   9,  12,   0,   0],\n",
       "       [  0,   2,   4,   0,   0,   0,   3,   9, 208,   9,   1,   0],\n",
       "       [  1,  11,   1,   0,   1,   0,   3,   2,  10, 259,   0,   1],\n",
       "       [  0,   3,   1,   0,   0,   0,   0,   1,   0,   4, 129,  10],\n",
       "       [  0,  11,   1,   0,   0,   0,   0,   1,   1,   2,   7, 123]],\n",
       "      dtype=int64)"
      ]
     },
     "execution_count": 85,
     "metadata": {},
     "output_type": "execute_result"
    }
   ],
   "source": [
    "confusion_mat = confusion_matrix(labels_test, y_pred)\n",
    "\n",
    "confusion_mat"
   ]
  },
  {
   "cell_type": "code",
   "execution_count": 88,
   "id": "62ff3a3a",
   "metadata": {},
   "outputs": [
    {
     "data": {
      "text/plain": [
       "(12, 12)"
      ]
     },
     "execution_count": 88,
     "metadata": {},
     "output_type": "execute_result"
    }
   ],
   "source": [
    "confusion_mat.shape"
   ]
  },
  {
   "cell_type": "code",
   "execution_count": 91,
   "id": "81c95d10",
   "metadata": {},
   "outputs": [
    {
     "data": {
      "image/png": "[encoded data removed]",
      "text/plain": [
       "<Figure size 720x504 with 2 Axes>"
      ]
     },
     "metadata": {
      "needs_background": "light"
     },
     "output_type": "display_data"
    }
   ],
   "source": [
    "plt.figure(figsize = (10,7))\n",
    "sns.heatmap(confusion_mat, annot=True, fmt='g')\n",
    "plt.show()\n"
   ]
  },
  {
   "cell_type": "code",
   "execution_count": null,
   "id": "3d0c88d7",
   "metadata": {},
   "outputs": [],
   "source": []
  },
  {
   "cell_type": "code",
   "execution_count": null,
   "id": "5853b731",
   "metadata": {},
   "outputs": [],
   "source": [
    "########################## Predicting the test file "
   ]
  },
  {
   "cell_type": "code",
   "execution_count": 108,
   "id": "caf01058",
   "metadata": {},
   "outputs": [],
   "source": [
    "def cleaning_text(df):\n",
    "    ## converting all text to lower case\n",
    "\n",
    "    df['text_clean'] = df['text'].str.lower()\n",
    "    \n",
    "    #### 1.1 Punctuation signs\n",
    "\n",
    "    punct_signs = list(\"?:!.,;\")\n",
    "\n",
    "\n",
    "    for punct_sign in punct_signs:\n",
    "        df['text_clean'] = df['text'].str.replace(punct_sign, '')\n",
    "        \n",
    "    ### Lemmatization\n",
    "\n",
    "    wordnet_lemmatizer = WordNetLemmatizer()\n",
    "    nrows = len(df)\n",
    "    lemmatized_text_list = []\n",
    "\n",
    "    for row in range(0, nrows):\n",
    "        lemmatized_list = []\n",
    "\n",
    "        text = df.loc[row]['text_clean']\n",
    "        text_words = text.split(\" \")\n",
    "\n",
    "        for word in text_words:\n",
    "            lemmatized_list.append(wordnet_lemmatizer.lemmatize(word, pos=\"v\"))\n",
    "\n",
    "        lemmatized_text = \" \".join(lemmatized_list)\n",
    "\n",
    "        lemmatized_text_list.append(lemmatized_text)\n",
    "        \n",
    "    df['lemmatized_text'] = lemmatized_text_list\n",
    "    \n",
    "    #  stop words \n",
    "    stop_words = list(stopwords.words('english'))\n",
    "    for stop_word in stop_words:\n",
    "        df['cleaned_text'] = df['lemmatized_text'].str.replace(stop_word, '')\n",
    "    \n",
    "    list_columns = [\"text\", \"cleaned_text\"]\n",
    "    df = df[list_columns]\n",
    "    \n",
    "    return df "
   ]
  },
  {
   "cell_type": "code",
   "execution_count": 109,
   "id": "7b256acb",
   "metadata": {},
   "outputs": [
    {
     "data": {
      "text/html": [
       "<div>\n",
       "<style scoped>\n",
       "    .dataframe tbody tr th:only-of-type {\n",
       "        vertical-align: middle;\n",
       "    }\n",
       "\n",
       "    .dataframe tbody tr th {\n",
       "        vertical-align: top;\n",
       "    }\n",
       "\n",
       "    .dataframe thead th {\n",
       "        text-align: right;\n",
       "    }\n",
       "</style>\n",
       "<table border=\"1\" class=\"dataframe\">\n",
       "  <thead>\n",
       "    <tr style=\"text-align: right;\">\n",
       "      <th></th>\n",
       "      <th>text</th>\n",
       "    </tr>\n",
       "  </thead>\n",
       "  <tbody>\n",
       "    <tr>\n",
       "      <th>0</th>\n",
       "      <td>lv tmd pd trip unit for nh parts of circuit br...</td>\n",
       "    </tr>\n",
       "    <tr>\n",
       "      <th>1</th>\n",
       "      <td>module tm analog outputs analog output expansi...</td>\n",
       "    </tr>\n",
       "    <tr>\n",
       "      <th>2</th>\n",
       "      <td>command group t iii mechanismt p parts forcir...</td>\n",
       "    </tr>\n",
       "    <tr>\n",
       "      <th>3</th>\n",
       "      <td>parts of relayelectrical contact  issu e f xxup</td>\n",
       "    </tr>\n",
       "    <tr>\n",
       "      <th>4</th>\n",
       "      <td>parts for programmable logic controllers  dm  ...</td>\n",
       "    </tr>\n",
       "  </tbody>\n",
       "</table>\n",
       "</div>"
      ],
      "text/plain": [
       "                                                text\n",
       "0  lv tmd pd trip unit for nh parts of circuit br...\n",
       "1  module tm analog outputs analog output expansi...\n",
       "2   command group t iii mechanismt p parts forcir...\n",
       "3    parts of relayelectrical contact  issu e f xxup\n",
       "4  parts for programmable logic controllers  dm  ..."
      ]
     },
     "execution_count": 109,
     "metadata": {},
     "output_type": "execute_result"
    }
   ],
   "source": [
    "df_test = pd.read_csv(r\"C:\\Users\\sbali\\Downloads\\test_set.csv\")\n",
    "df_test.head()"
   ]
  },
  {
   "cell_type": "code",
   "execution_count": 110,
   "id": "76e69a4c",
   "metadata": {},
   "outputs": [
    {
     "name": "stderr",
     "output_type": "stream",
     "text": [
      "C:\\Users\\sbali\\AppData\\Local\\Temp/ipykernel_6816/6632380.py:12: FutureWarning: The default value of regex will change from True to False in a future version. In addition, single character regular expressions will*not* be treated as literal strings when regex=True.\n",
      "  df['text_clean'] = df['text'].str.replace(punct_sign, '')\n"
     ]
    }
   ],
   "source": [
    "unclean_df = df_test\n",
    "cleaned_df_test = cleaning_text(unclean_df)"
   ]
  },
  {
   "cell_type": "code",
   "execution_count": 111,
   "id": "905fb615",
   "metadata": {},
   "outputs": [],
   "source": [
    "features_test = tfidf.transform(cleaned_df_test['cleaned_text']).toarray()"
   ]
  },
  {
   "cell_type": "code",
   "execution_count": 112,
   "id": "79fe94d2",
   "metadata": {},
   "outputs": [
    {
     "data": {
      "text/plain": [
       "(5894, 12834)"
      ]
     },
     "execution_count": 112,
     "metadata": {},
     "output_type": "execute_result"
    }
   ],
   "source": [
    "features_test.shape"
   ]
  },
  {
   "cell_type": "code",
   "execution_count": 113,
   "id": "da72a981",
   "metadata": {},
   "outputs": [],
   "source": [
    "y_test_pred = model.predict(features_test)"
   ]
  },
  {
   "cell_type": "code",
   "execution_count": 115,
   "id": "1bcb2777",
   "metadata": {},
   "outputs": [
    {
     "data": {
      "text/html": [
       "<div>\n",
       "<style scoped>\n",
       "    .dataframe tbody tr th:only-of-type {\n",
       "        vertical-align: middle;\n",
       "    }\n",
       "\n",
       "    .dataframe tbody tr th {\n",
       "        vertical-align: top;\n",
       "    }\n",
       "\n",
       "    .dataframe thead th {\n",
       "        text-align: right;\n",
       "    }\n",
       "</style>\n",
       "<table border=\"1\" class=\"dataframe\">\n",
       "  <thead>\n",
       "    <tr style=\"text-align: right;\">\n",
       "      <th></th>\n",
       "      <th>text</th>\n",
       "      <th>Predicted_label</th>\n",
       "    </tr>\n",
       "  </thead>\n",
       "  <tbody>\n",
       "    <tr>\n",
       "      <th>0</th>\n",
       "      <td>lv tmd pd trip unit for nh parts of circuit br...</td>\n",
       "      <td>85389000</td>\n",
       "    </tr>\n",
       "    <tr>\n",
       "      <th>1</th>\n",
       "      <td>module tm analog outputs analog output expansi...</td>\n",
       "      <td>85389000</td>\n",
       "    </tr>\n",
       "    <tr>\n",
       "      <th>2</th>\n",
       "      <td>command group t iii mechanismt p parts forcir...</td>\n",
       "      <td>85389000</td>\n",
       "    </tr>\n",
       "    <tr>\n",
       "      <th>3</th>\n",
       "      <td>parts of relayelectrical contact  issu e f xxup</td>\n",
       "      <td>85389000</td>\n",
       "    </tr>\n",
       "    <tr>\n",
       "      <th>4</th>\n",
       "      <td>parts for programmable logic controllers  dm  ...</td>\n",
       "      <td>85389000</td>\n",
       "    </tr>\n",
       "  </tbody>\n",
       "</table>\n",
       "</div>"
      ],
      "text/plain": [
       "                                                text  Predicted_label\n",
       "0  lv tmd pd trip unit for nh parts of circuit br...         85389000\n",
       "1  module tm analog outputs analog output expansi...         85389000\n",
       "2   command group t iii mechanismt p parts forcir...         85389000\n",
       "3    parts of relayelectrical contact  issu e f xxup         85389000\n",
       "4  parts for programmable logic controllers  dm  ...         85389000"
      ]
     },
     "execution_count": 115,
     "metadata": {},
     "output_type": "execute_result"
    }
   ],
   "source": [
    "df_test['Predicted_label'] = y_test_pred\n",
    "list_columns = [\"text\", \"Predicted_label\"]\n",
    "df_test = df_test[list_columns]\n",
    "df_test.head()"
   ]
  },
  {
   "cell_type": "code",
   "execution_count": 117,
   "id": "2f491d1a",
   "metadata": {},
   "outputs": [],
   "source": [
    "df_test.to_csv(r\"C:\\Users\\sbali\\Downloads\\predicted_test_set.csv\")"
   ]
  },
  {
   "cell_type": "code",
   "execution_count": null,
   "id": "85faa5ad",
   "metadata": {},
   "outputs": [],
   "source": []
  }
 ],
 "metadata": {
  "kernelspec": {
   "display_name": "Python 3",
   "language": "python",
   "name": "python3"
  },
  "language_info": {
   "codemirror_mode": {
    "name": "ipython",
    "version": 3
   },
   "file_extension": ".py",
   "mimetype": "text/x-python",
   "name": "python",
   "nbconvert_exporter": "python",
   "pygments_lexer": "ipython3",
   "version": "3.8.8"
  }
 },
 "nbformat": 4,
 "nbformat_minor": 5
}
